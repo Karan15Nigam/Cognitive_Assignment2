{
 "cells": [
  {
   "cell_type": "code",
   "execution_count": 10,
   "id": "5ece731d-ac66-4f1e-9543-e5e0bc4bc49b",
   "metadata": {},
   "outputs": [
    {
     "name": "stdout",
     "output_type": "stream",
     "text": [
      "[10, 20, 30, 40, 50, 60, 70, 80, 200, 300]\n",
      "[20, 40, 50, 60, 70, 80, 200, 300]\n",
      "[20, 40, 50, 60, 70, 80, 200, 300]\n",
      "[300, 200, 80, 70, 60, 50, 40, 20]\n"
     ]
    }
   ],
   "source": [
    "#1)\n",
    "L= [10, 20, 30, 40, 50, 60, 70, 80]\n",
    "L.append(200)\n",
    "L.append(300)\n",
    "print(L)\n",
    "L.remove(10)\n",
    "L.remove(30)\n",
    "print(L)\n",
    "L.sort()\n",
    "print(L)\n",
    "L.sort(reverse=True)\n",
    "print(L)"
   ]
  },
  {
   "cell_type": "code",
   "execution_count": 25,
   "id": "d5e17cbb-4b63-45eb-a8a2-460b6bd97018",
   "metadata": {},
   "outputs": [
    {
     "name": "stdout",
     "output_type": "stream",
     "text": [
      "Highest Score: 92\n",
      "Index of highest score: 5\n",
      "\n",
      "Lowest Score: 45\n",
      "Index of Lowest Score: 0\n",
      "\n",
      "Reversed tuple as a List: [45, 58, 92, 89, 45.4, 76, 89.5, 45]\n",
      "76 Present at: 2\n"
     ]
    }
   ],
   "source": [
    "#2)\n",
    "Marks=(45,89.5,76,45.4,89,92,58,45) \n",
    "#a)\n",
    "max_marks=max(Marks)\n",
    "print(\"Highest Score:\",max_marks)\n",
    "a=Marks.index(max_marks)\n",
    "print(\"Index of highest score:\",a)\n",
    "#b)\n",
    "min_marks=min(Marks)\n",
    "print(\"\\nLowest Score:\",min_marks)\n",
    "print(\"Index of Lowest Score:\",Marks.index(min_marks))\n",
    "#c)\n",
    "Marks_rev=Marks[::-1]\n",
    "Marks_r_list=list(Marks_rev)\n",
    "print(\"\\nReversed tuple as a List:\",Marks_r_list)\n",
    "#d)\n",
    "x=76\n",
    "if x in Marks:\n",
    "    first_index=Marks.index(x)\n",
    "    print(x,\"Present at:\",first_index)\n",
    "else:\n",
    "    print(x,\"Not present\")"
   ]
  },
  {
   "cell_type": "code",
   "execution_count": 1,
   "id": "44b83836-9032-4446-b469-c7608567f793",
   "metadata": {},
   "outputs": [
    {
     "name": "stdout",
     "output_type": "stream",
     "text": [
      "365\n",
      "543\n",
      "615\n",
      "545\n",
      "325\n",
      "399\n",
      "171\n",
      "889\n",
      "333\n",
      "199\n",
      "481\n",
      "549\n",
      "689\n",
      "561\n",
      "821\n",
      "471\n",
      "733\n",
      "493\n",
      "153\n",
      "381\n",
      "877\n",
      "709\n",
      "743\n",
      "293\n",
      "179\n",
      "463\n",
      "747\n",
      "371\n",
      "131\n",
      "115\n",
      "795\n",
      "421\n",
      "365\n",
      "467\n",
      "595\n",
      "665\n",
      "203\n",
      "745\n",
      "357\n",
      "143\n",
      "853\n",
      "617\n",
      "505\n",
      "823\n",
      "843\n",
      "513\n",
      "572\n",
      "266\n",
      "650\n",
      "122\n",
      "142\n",
      "490\n",
      "884\n",
      "640\n",
      "604\n",
      "196\n",
      "682\n",
      "112\n",
      "318\n",
      "592\n",
      "650\n",
      "410\n",
      "414\n",
      "444\n",
      "894\n",
      "176\n",
      "756\n",
      "258\n",
      "322\n",
      "712\n",
      "298\n",
      "876\n",
      "834\n",
      "686\n",
      "360\n",
      "480\n",
      "540\n",
      "642\n",
      "500\n",
      "840\n",
      "624\n",
      "686\n",
      "506\n",
      "258\n",
      "190\n",
      "180\n",
      "694\n",
      "496\n",
      "380\n",
      "362\n",
      "362\n",
      "112\n",
      "510\n",
      "656\n",
      "176\n",
      "210\n",
      "828\n",
      "182\n",
      "818\n",
      "562\n"
     ]
    },
    {
     "ename": "KeyboardInterrupt",
     "evalue": "",
     "output_type": "error",
     "traceback": [
      "\u001b[1;31m---------------------------------------------------------------------------\u001b[0m",
      "\u001b[1;31mKeyboardInterrupt\u001b[0m                         Traceback (most recent call last)",
      "Cell \u001b[1;32mIn[1], line 30\u001b[0m\n\u001b[0;32m     28\u001b[0m         \u001b[38;5;28;01mreturn\u001b[39;00m \u001b[38;5;28;01mFalse\u001b[39;00m\n\u001b[0;32m     29\u001b[0m \u001b[38;5;28;01mfor\u001b[39;00m z \u001b[38;5;129;01min\u001b[39;00m random_numbers:\n\u001b[1;32m---> 30\u001b[0m     \u001b[38;5;28;01mif\u001b[39;00m \u001b[43mprime\u001b[49m\u001b[43m(\u001b[49m\u001b[43mz\u001b[49m\u001b[43m)\u001b[49m:\n\u001b[0;32m     31\u001b[0m         \u001b[38;5;28mprint\u001b[39m(z)\n\u001b[0;32m     32\u001b[0m     \u001b[38;5;28;01melse\u001b[39;00m:\n",
      "Cell \u001b[1;32mIn[1], line 20\u001b[0m, in \u001b[0;36mprime\u001b[1;34m(num)\u001b[0m\n\u001b[0;32m     18\u001b[0m c\u001b[38;5;241m=\u001b[39m\u001b[38;5;241m0\u001b[39m\n\u001b[0;32m     19\u001b[0m i\u001b[38;5;241m=\u001b[39m\u001b[38;5;241m1\u001b[39m\n\u001b[1;32m---> 20\u001b[0m \u001b[38;5;28;01mwhile\u001b[39;00m i\u001b[38;5;241m<\u001b[39m\u001b[38;5;241m=\u001b[39mnum:\n\u001b[0;32m     21\u001b[0m     \u001b[38;5;28;01mif\u001b[39;00m(num\u001b[38;5;241m%\u001b[39mi\u001b[38;5;241m==\u001b[39m\u001b[38;5;241m0\u001b[39m):\n\u001b[0;32m     22\u001b[0m         c\u001b[38;5;241m+\u001b[39m\u001b[38;5;241m=\u001b[39m\u001b[38;5;241m1\u001b[39m\n",
      "\u001b[1;31mKeyboardInterrupt\u001b[0m: "
     ]
    }
   ],
   "source": [
    "#3)\n",
    "import random\n",
    "random_numbers=[random.randint(100,900) for _ in range(100)]\n",
    "def odd(num):\n",
    "    if num%2!=0:\n",
    "        return True\n",
    "    else:\n",
    "        return False\n",
    "for x in random_numbers:\n",
    "    check=odd(x)\n",
    "    if check:\n",
    "        print(x)\n",
    "for y in random_numbers:\n",
    "    check=odd(y)\n",
    "    if check==False:\n",
    "        print(y)\n",
    "def prime(num):\n",
    "    c=0\n",
    "    i=1\n",
    "    while i<=num:\n",
    "        if(num%i==0):\n",
    "            c+=1\n",
    "        else:\n",
    "            continue\n",
    "    if c==2:\n",
    "        return True\n",
    "    else:\n",
    "        return False\n",
    "for z in random_numbers:\n",
    "    if prime(z):\n",
    "        print(z)\n",
    "    else:\n",
    "        continue\n",
    "    \n"
   ]
  },
  {
   "cell_type": "code",
   "execution_count": 7,
   "id": "72eb9dde-d7e9-4c4d-8a27-eb33d4976ac4",
   "metadata": {},
   "outputs": [
    {
     "name": "stdout",
     "output_type": "stream",
     "text": [
      "Union: {34, 45, 78, 23, 56, 90}\n",
      "Intersection: {90, 78}\n",
      "Symmetric Difference (exclusive scores): {34, 45, 23, 56}\n",
      "Is A a subset of B? False\n",
      "Is B a superset of A? False\n"
     ]
    },
    {
     "name": "stdin",
     "output_type": "stream",
     "text": [
      "Enter a score to remove from set A:  34\n"
     ]
    },
    {
     "name": "stdout",
     "output_type": "stream",
     "text": [
      "Score 34 removed from set A. Updated set A: {56, 90, 78}\n"
     ]
    }
   ],
   "source": [
    "A= {34, 56, 78, 90} \n",
    "B= {78, 45, 90, 23} \n",
    "print(\"Union:\",A.union(B))\n",
    "print(\"Intersection:\",A.intersection(B))\n",
    "print(\"Symmetric Difference (exclusive scores):\", A.symmetric_difference(B))\n",
    "is_subset = A.issubset(B)\n",
    "is_superset = B.issuperset(A)\n",
    "print(f\"Is A a subset of B? {is_subset}\")\n",
    "print(f\"Is B a superset of A? {is_superset}\")\n",
    "X = int(input(\"Enter a score to remove from set A: \"))\n",
    "if X in A:\n",
    "    A.remove(X)\n",
    "    print(f\"Score {X} removed from set A. Updated set A:\", A)\n",
    "else:\n",
    "    print(f\"Score {X} is not present in set A.\")"
   ]
  },
  {
   "cell_type": "code",
   "execution_count": 8,
   "id": "d5210103-4d57-41a4-8e80-c0d3604c9c0c",
   "metadata": {},
   "outputs": [
    {
     "ename": "_IncompleteInputError",
     "evalue": "incomplete input (1246127508.py, line 1)",
     "output_type": "error",
     "traceback": [
      "\u001b[1;36m  Cell \u001b[1;32mIn[8], line 1\u001b[1;36m\u001b[0m\n\u001b[1;33m    sampple_dict={\u001b[0m\n\u001b[1;37m                  ^\u001b[0m\n\u001b[1;31m_IncompleteInputError\u001b[0m\u001b[1;31m:\u001b[0m incomplete input\n"
     ]
    }
   ],
   "source": [
    "sampple_dict={\n",
    "    \"name\":\"Kelly\",\n",
    "    \"age\":25,\n",
    "    \"salary\":8000,\n",
    "    \"city\";\"New York\"\n",
    "}\n"
   ]
  },
  {
   "cell_type": "code",
   "execution_count": null,
   "id": "d6838775-0d40-4695-956e-1478812cee1f",
   "metadata": {},
   "outputs": [],
   "source": []
  },
  {
   "cell_type": "code",
   "execution_count": null,
   "id": "3e425157-65e8-4c12-905f-da13ecc5a3df",
   "metadata": {},
   "outputs": [],
   "source": []
  }
 ],
 "metadata": {
  "kernelspec": {
   "display_name": "Python 3 (ipykernel)",
   "language": "python",
   "name": "python3"
  },
  "language_info": {
   "codemirror_mode": {
    "name": "ipython",
    "version": 3
   },
   "file_extension": ".py",
   "mimetype": "text/x-python",
   "name": "python",
   "nbconvert_exporter": "python",
   "pygments_lexer": "ipython3",
   "version": "3.13.1"
  }
 },
 "nbformat": 4,
 "nbformat_minor": 5
}
